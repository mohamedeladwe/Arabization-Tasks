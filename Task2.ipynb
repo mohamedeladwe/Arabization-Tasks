{
 "cells": [
  {
   "cell_type": "code",
   "execution_count": 1,
   "id": "87ebd8d9",
   "metadata": {},
   "outputs": [],
   "source": [
    "from tkinter import *\n",
    "import nltk\n",
    "from nltk.corpus import stopwords\n",
    "import string"
   ]
  },
  {
   "cell_type": "markdown",
   "id": "af5bd76e",
   "metadata": {},
   "source": [
    "Segmentation"
   ]
  },
  {
   "cell_type": "code",
   "execution_count": 2,
   "id": "7bd895a6",
   "metadata": {},
   "outputs": [],
   "source": [
    "def seg_btnclick(string1):\n",
    "    text=string1\n",
    "    punkt = nltk.data.load(r'./tokenizers/punkt/english.pickle')\n",
    "    segmentedText = punkt.tokenize(text)\n",
    "    for w in segmentedText:\n",
    "        print(w)\n",
    "    txt.delete(0,END)"
   ]
  },
  {
   "cell_type": "markdown",
   "id": "6c0bdabd",
   "metadata": {},
   "source": [
    "Tokenization"
   ]
  },
  {
   "cell_type": "code",
   "execution_count": 3,
   "id": "1ab3fca3",
   "metadata": {},
   "outputs": [],
   "source": [
    "def tok_btnclick(string1):\n",
    "    text=string1\n",
    "    sent=nltk.word_tokenize(text)\n",
    "    print(sent)\n",
    "    txt.delete(0,END)"
   ]
  },
  {
   "cell_type": "markdown",
   "id": "a3596fd7",
   "metadata": {},
   "source": [
    "Stemming"
   ]
  },
  {
   "cell_type": "code",
   "execution_count": 4,
   "id": "78e52951",
   "metadata": {},
   "outputs": [],
   "source": [
    "def stem_btnclick(string1):\n",
    "    text=string1\n",
    "    tokens=nltk.word_tokenize(text)\n",
    "    stopwords_list = stopwords.words('arabic') \n",
    "    pn = list(string.punctuation)\n",
    "    filtered = []\n",
    "    for c_tokens in tokens:\n",
    "        if c_tokens not in stopwords_list:\n",
    "            if c_tokens not in pn:\n",
    "                filtered.append(c_tokens)\n",
    "    st = nltk.ISRIStemmer()\n",
    "    resultStem = [st.stem(w) for w in tokens]\n",
    "    for w in resultStem:\n",
    "        print(w)\n",
    "    txt.delete(0,END)"
   ]
  },
  {
   "cell_type": "markdown",
   "id": "46321633",
   "metadata": {},
   "source": [
    "GUI"
   ]
  },
  {
   "cell_type": "code",
   "execution_count": 5,
   "id": "6e9fc8f1",
   "metadata": {},
   "outputs": [],
   "source": [
    "def GUI():\n",
    "    root = Tk()\n",
    "    root.title(\"Arabization Window\")\n",
    "    \n",
    "    lbl = Label(root,text = \"Enter Your Text:\")\n",
    "    lbl.grid(row=0,column=0)\n",
    "    \n",
    "    \n",
    "    global txt\n",
    "    txt=Entry(root,font = ('arial' , 20 ,'bold'), width = 30)\n",
    "    txt.grid(row=0,column=1)\n",
    "    \n",
    "    \n",
    "    tok_btn = Button(root,text=\"Segmentation\",command=lambda:seg_btnclick(txt.get()))\n",
    "    tok_btn.grid(row=3,column=0,ipadx=12,ipady=12)\n",
    "    \n",
    "    # Tokenization\n",
    "    tok_btn = Button(root,text=\"Tokenization\",command=lambda:tok_btnclick(txt.get()))\n",
    "    tok_btn.grid(row=3,column=1,ipadx=12,ipady=12)\n",
    "    \n",
    "    # Stemming\n",
    "    stem_btn = Button(root,text=\"Stemming\",command=lambda:stem_btnclick(txt.get()))\n",
    "    stem_btn.grid(row=3,column=2,ipadx=12,ipady=12)\n",
    "\n",
    "    root.mainloop()"
   ]
  },
  {
   "cell_type": "code",
   "execution_count": 6,
   "id": "3a133af1",
   "metadata": {},
   "outputs": [],
   "source": [
    "GUI()"
   ]
  },
  {
   "cell_type": "code",
   "execution_count": null,
   "id": "d07c268b",
   "metadata": {},
   "outputs": [],
   "source": []
  },
  {
   "cell_type": "code",
   "execution_count": null,
   "id": "3d7ed2a1",
   "metadata": {},
   "outputs": [],
   "source": []
  }
 ],
 "metadata": {
  "kernelspec": {
   "display_name": "Python 3 (ipykernel)",
   "language": "python",
   "name": "python3"
  },
  "language_info": {
   "codemirror_mode": {
    "name": "ipython",
    "version": 3
   },
   "file_extension": ".py",
   "mimetype": "text/x-python",
   "name": "python",
   "nbconvert_exporter": "python",
   "pygments_lexer": "ipython3",
   "version": "3.8.12"
  }
 },
 "nbformat": 4,
 "nbformat_minor": 5
}
